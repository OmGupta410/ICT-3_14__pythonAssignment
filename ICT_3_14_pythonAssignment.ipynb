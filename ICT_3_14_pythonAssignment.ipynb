{
 "cells": [
  {
   "cell_type": "code",
   "execution_count": null,
   "metadata": {},
   "outputs": [],
   "source": [
    "# Q1\n",
    "\n",
    "def productnsum():\n",
    "    a =int(input(\"enter num 1\"))\n",
    "    b =int(input(\"enter num 2\"))\n",
    "    \n",
    "    if(a*b>1000):\n",
    "        return a*b\n",
    "    else:\n",
    "        return a+b\n",
    "    \n",
    "    \n",
    "result = productnsum()\n",
    "\n",
    "print(result)"
   ]
  },
  {
   "cell_type": "code",
   "execution_count": 16,
   "metadata": {},
   "outputs": [
    {
     "name": "stdout",
     "output_type": "stream",
     "text": [
      "Sum of 0 and 1: 1\n",
      "Sum of 1 and 2: 3\n",
      "Sum of 2 and 3: 5\n",
      "Sum of 3 and 4: 7\n",
      "Sum of 4 and 5: 9\n",
      "Sum of 5 and 6: 11\n",
      "Sum of 6 and 7: 13\n",
      "Sum of 7 and 8: 15\n",
      "Sum of 8 and 9: 17\n",
      "Sum of 9 and 10: 19\n"
     ]
    }
   ],
   "source": [
    "# Q2\n",
    "def fibonachhi():\n",
    "    a= range(1, 11)\n",
    "    \n",
    "    prev=0\n",
    "    \n",
    "    for i in a:\n",
    "         print(f\"Sum of {prev} and {i}: {prev + i}\")\n",
    "         prev=i   \n",
    "        \n",
    "fibonachhi()"
   ]
  },
  {
   "cell_type": "code",
   "execution_count": 22,
   "metadata": {},
   "outputs": [],
   "source": [
    "# Q3\n",
    "\n",
    "def evenindexstring():\n",
    "    a =input(\"enter string\")\n",
    "    \n",
    "    return a[0::2]"
   ]
  },
  {
   "cell_type": "code",
   "execution_count": 23,
   "metadata": {},
   "outputs": [
    {
     "name": "stdout",
     "output_type": "stream",
     "text": [
      "True\n",
      "False\n"
     ]
    }
   ],
   "source": [
    "# Q4\n",
    "\n",
    "def check_first_last_same(numbers):\n",
    "    return numbers[0] == numbers[-1]\n",
    "\n",
    "\n",
    "numbers = [1, 2, 3, 4, 1]\n",
    "print(check_first_last_same(numbers))\n",
    "\n",
    "numbers2 = [1, 2, 3, 4, 5]\n",
    "print(check_first_last_same(numbers2))\n"
   ]
  },
  {
   "cell_type": "code",
   "execution_count": 25,
   "metadata": {},
   "outputs": [
    {
     "name": "stdout",
     "output_type": "stream",
     "text": [
      "[11, 13, 15, 20, 22, 24]\n"
     ]
    }
   ],
   "source": [
    "# Q5\n",
    "def create_third_list(list1, list2):\n",
    "  \n",
    "    odd_index_elements = [list1[i] for i in range(1, len(list1), 2)]\n",
    "    \n",
    "  \n",
    "    even_index_elements = [list2[i] for i in range(0, len(list2), 2)]\n",
    "    \n",
    "\n",
    "    return odd_index_elements + even_index_elements\n",
    "\n",
    "\n",
    "list1 = [10, 11, 12, 13, 14, 15]\n",
    "list2 = [20, 21, 22, 23, 24, 25]\n",
    "\n",
    "result = create_third_list(list1, list2)\n",
    "print(result)\n",
    "print(result)\n"
   ]
  },
  {
   "cell_type": "code",
   "execution_count": 5,
   "metadata": {},
   "outputs": [
    {
     "name": "stdout",
     "output_type": "stream",
     "text": [
      "[10, 50, 20, 30, 40, 60, 70, 50]\n"
     ]
    }
   ],
   "source": [
    "#Q6\n",
    "def modify_list(lst):\n",
    "    if len(lst) > 4:\n",
    "        element = lst.pop(4)      \n",
    "        lst.insert(1, element)     \n",
    "        lst.append(element)        \n",
    "    return lst\n",
    "\n",
    "my_list = [10, 20, 30, 40, 50, 60, 70]\n",
    "modified = modify_list(my_list)\n",
    "print(modified)\n"
   ]
  },
  {
   "cell_type": "code",
   "execution_count": 6,
   "metadata": {},
   "outputs": [
    {
     "name": "stdout",
     "output_type": "stream",
     "text": [
      "[[3, 2, 1], [6, 5, 4], [9, 8, 7]]\n"
     ]
    }
   ],
   "source": [
    "#Q7\n",
    "def slice_and_reverse(lst):\n",
    "    n = len(lst)\n",
    "    if n % 3 != 0:\n",
    "        raise ValueError(\"must be divisible by 3\")\n",
    "\n",
    "    chunk_size = n // 3\n",
    "    chunks = [\n",
    "        lst[0:chunk_size][::-1],\n",
    "        lst[chunk_size:2*chunk_size][::-1],\n",
    "        lst[2*chunk_size:][::-1]\n",
    "    ]\n",
    "    return chunks\n",
    "\n",
    "my_list = [1, 2, 3, 4, 5, 6, 7, 8, 9]\n",
    "result = slice_and_reverse(my_list)\n",
    "print(result)\n"
   ]
  },
  {
   "cell_type": "code",
   "execution_count": 8,
   "metadata": {},
   "outputs": [
    {
     "name": "stdout",
     "output_type": "stream",
     "text": [
      "{'apple': 3, 'banana': 2, 'orange': 1}\n"
     ]
    }
   ],
   "source": [
    "#Q8\n",
    "from collections import Counter\n",
    "\n",
    "def count_occurrences(lst):\n",
    "    return dict(Counter(lst))\n",
    "\n",
    "my_list = ['apple', 'banana', 'apple', 'orange', 'banana', 'apple']\n",
    "result = count_occurrences(my_list)\n",
    "print(result)\n"
   ]
  },
  {
   "cell_type": "code",
   "execution_count": 10,
   "metadata": {},
   "outputs": [
    {
     "name": "stdout",
     "output_type": "stream",
     "text": [
      "{'orange', 'black', 'blue', 'yellow'}\n"
     ]
    }
   ],
   "source": [
    "# Q9\n",
    "my_set = {'yellow', 'orange'}\n",
    "my_list = ['blue', 'black']\n",
    "\n",
    "my_set.update(my_list)\n",
    "\n",
    "print(my_set)\n"
   ]
  },
  {
   "cell_type": "code",
   "execution_count": 11,
   "metadata": {},
   "outputs": [
    {
     "name": "stdout",
     "output_type": "stream",
     "text": [
      "1 \n",
      "1 2 \n",
      "1 2 3 \n",
      "1 2 3 4 \n",
      "1 2 3 4 5 \n"
     ]
    }
   ],
   "source": [
    "#Q10\n",
    "for i in range(1, 6):\n",
    "    for j in range(1, i + 1):\n",
    "        print(j, end=' ')\n",
    "    print() \n"
   ]
  },
  {
   "cell_type": "code",
   "execution_count": 16,
   "metadata": {},
   "outputs": [
    {
     "data": {
      "text/plain": [
       "55"
      ]
     },
     "execution_count": 16,
     "metadata": {},
     "output_type": "execute_result"
    }
   ],
   "source": [
    "#Q11\n",
    "\n",
    "def sum_upto(n):\n",
    "    total = 0\n",
    "    for i in range(1, n + 1):\n",
    "        total += i\n",
    "    return total\n",
    "number = 10 \n",
    "sum_upto(number)\n",
    "    "
   ]
  },
  {
   "cell_type": "code",
   "execution_count": 17,
   "metadata": {},
   "outputs": [
    {
     "name": "stdout",
     "output_type": "stream",
     "text": [
      "10\n",
      "25\n",
      "50\n"
     ]
    }
   ],
   "source": [
    "# Q12\n",
    "def display_divisible_by_5(lst):\n",
    "    for num in lst:\n",
    "        if num > 150:\n",
    "            break\n",
    "        if num % 5 == 0:\n",
    "            print(num)\n",
    "\n",
    "numbers = [10, 25, 33, 50, 160, 75, 5]\n",
    "display_divisible_by_5(numbers)\n",
    "\n"
   ]
  },
  {
   "cell_type": "code",
   "execution_count": 19,
   "metadata": {},
   "outputs": [
    {
     "name": "stdout",
     "output_type": "stream",
     "text": [
      "[40, 30, 20, 10]\n"
     ]
    }
   ],
   "source": [
    "# Q13\n",
    "List1 = [10, 20, 30, 40]\n",
    "reversed_list = []\n",
    "\n",
    "for i in range(len(List1)-1, -1, -1):\n",
    "    reversed_list.append(List1[i])\n",
    "\n",
    "print(reversed_list)\n"
   ]
  },
  {
   "cell_type": "code",
   "execution_count": 21,
   "metadata": {},
   "outputs": [
    {
     "name": "stdout",
     "output_type": "stream",
     "text": [
      "11 13 17 19 23 29 31 37 41 43 47 \n"
     ]
    }
   ],
   "source": [
    "# Q14\n",
    "\n",
    "def is_prime(num):\n",
    "    if num <= 1:\n",
    "        return False\n",
    "    for i in range(2, int(num**0.5) + 1):\n",
    "        if num % i == 0:\n",
    "            return False\n",
    "    return True\n",
    "\n",
    "def display_primes(start, end):\n",
    "    for number in range(start, end + 1):\n",
    "        if is_prime(number):\n",
    "            print(number, end=' ')\n",
    "    print()\n",
    "\n",
    "# Example usage:\n",
    "start_range = 10\n",
    "end_range = 50\n",
    "display_primes(start_range, end_range)\n"
   ]
  },
  {
   "cell_type": "code",
   "execution_count": 22,
   "metadata": {},
   "outputs": [
    {
     "name": "stdout",
     "output_type": "stream",
     "text": [
      "Added Toyota Camry to showroom.\n",
      "Added Honda Civic to showroom.\n",
      "Added Ford Mustang to showroom.\n",
      "\n",
      "--- Car Showroom Menu ---\n",
      "1. View available cars\n",
      "2. Display car details\n",
      "3. Sell a car\n",
      "4. Buy a car\n",
      "5. Exit\n",
      "Enter your choice: 1\n",
      "\n",
      "Available Cars in Showroom:\n",
      "    Brand    Model  Year  Price  Color\n",
      "0  Toyota    Camry  2020  24000  White\n",
      "1   Honda    Civic  2019  20000  Black\n",
      "2    Ford  Mustang  2021  35000    Red\n",
      "\n",
      "Price stats - Min: 20000, Max: 35000, Average: 26333.33\n",
      "\n",
      "--- Car Showroom Menu ---\n",
      "1. View available cars\n",
      "2. Display car details\n",
      "3. Sell a car\n",
      "4. Buy a car\n",
      "5. Exit\n",
      "Enter your choice: 2\n",
      "Enter brand of the car: Honda\n",
      "Enter model of the car: Civic\n",
      "\n",
      "Car Details:\n",
      "Brand: Honda\n",
      "Model: Civic\n",
      "Year: 2019\n",
      "Price: 20000\n",
      "Color: Black\n",
      "\n",
      "--- Car Showroom Menu ---\n",
      "1. View available cars\n",
      "2. Display car details\n",
      "3. Sell a car\n",
      "4. Buy a car\n",
      "5. Exit\n",
      "Enter your choice: 3\n",
      "Enter brand of the car to sell: Skoda\n",
      "Enter model of the car to sell: laura\n",
      "Car Skoda laura not available for sale.\n",
      "\n",
      "--- Car Showroom Menu ---\n",
      "1. View available cars\n",
      "2. Display car details\n",
      "3. Sell a car\n",
      "4. Buy a car\n",
      "5. Exit\n",
      "Enter your choice: 4\n",
      "Enter brand: Skoda\n",
      "Enter model: laura\n",
      "Enter year: 4522\n",
      "Enter price: 152005\n",
      "Enter color: black\n",
      "Added Skoda laura to showroom.\n",
      "\n",
      "--- Car Showroom Menu ---\n",
      "1. View available cars\n",
      "2. Display car details\n",
      "3. Sell a car\n",
      "4. Buy a car\n",
      "5. Exit\n",
      "Enter your choice: 1\n",
      "\n",
      "Available Cars in Showroom:\n",
      "    Brand    Model  Year     Price  Color\n",
      "0  Toyota    Camry  2020   24000.0  White\n",
      "1   Honda    Civic  2019   20000.0  Black\n",
      "2    Ford  Mustang  2021   35000.0    Red\n",
      "3   Skoda    laura  4522  152005.0  black\n",
      "\n",
      "Price stats - Min: 20000.0, Max: 152005.0, Average: 57751.25\n",
      "\n",
      "--- Car Showroom Menu ---\n",
      "1. View available cars\n",
      "2. Display car details\n",
      "3. Sell a car\n",
      "4. Buy a car\n",
      "5. Exit\n",
      "Enter your choice: 5\n",
      "Exiting Showroom. Have a nice day!\n"
     ]
    }
   ],
   "source": [
    "import pandas as pd\n",
    "import numpy as np\n",
    "\n",
    "class Car:\n",
    "    def __init__(self, brand, model, year, price, color):\n",
    "        self.brand = brand\n",
    "        self.model = model\n",
    "        self.year = year\n",
    "        self.price = price\n",
    "        self.color = color\n",
    "\n",
    "    def details(self):\n",
    "        return {\n",
    "            'Brand': self.brand,\n",
    "            'Model': self.model,\n",
    "            'Year': self.year,\n",
    "            'Price': self.price,\n",
    "            'Color': self.color\n",
    "        }\n",
    "\n",
    "class CarShowroom:\n",
    "    def __init__(self):\n",
    "        self.cars = []  \n",
    "\n",
    "    def add_car(self, car):\n",
    "        self.cars.append(car)\n",
    "        print(f\"Added {car.brand} {car.model} to showroom.\")\n",
    "\n",
    "    def view_cars(self):\n",
    "        if not self.cars:\n",
    "            print(\"No cars available in showroom.\")\n",
    "            return\n",
    "        \n",
    "        data = [car.details() for car in self.cars]\n",
    "        df = pd.DataFrame(data)\n",
    "        print(\"\\nAvailable Cars in Showroom:\")\n",
    "        print(df)\n",
    "\n",
    "       \n",
    "        prices = np.array([car.price for car in self.cars])\n",
    "        print(f\"\\nPrice stats - Min: {prices.min()}, Max: {prices.max()}, Average: {prices.mean():.2f}\")\n",
    "\n",
    "    def display_car_details(self, brand, model):\n",
    "        for car in self.cars:\n",
    "            if car.brand.lower() == brand.lower() and car.model.lower() == model.lower():\n",
    "                print(\"\\nCar Details:\")\n",
    "                for k, v in car.details().items():\n",
    "                    print(f\"{k}: {v}\")\n",
    "                return\n",
    "        print(f\"Car {brand} {model} not found in showroom.\")\n",
    "\n",
    "    def sell_car(self, brand, model):\n",
    "        for i, car in enumerate(self.cars):\n",
    "            if car.brand.lower() == brand.lower() and car.model.lower() == model.lower():\n",
    "                sold_car = self.cars.pop(i)\n",
    "                print(f\"Sold car: {sold_car.brand} {sold_car.model}\")\n",
    "                return\n",
    "        print(f\"Car {brand} {model} not available for sale.\")\n",
    "\n",
    "    def buy_car(self):\n",
    "        try:\n",
    "            brand = input(\"Enter brand: \")\n",
    "            model = input(\"Enter model: \")\n",
    "            year = int(input(\"Enter year: \"))\n",
    "            price = float(input(\"Enter price: \"))\n",
    "            color = input(\"Enter color: \")\n",
    "            \n",
    "            new_car = Car(brand, model, year, price, color)\n",
    "            self.add_car(new_car)\n",
    "        except ValueError as ve:\n",
    "            print(f\"Invalid input: {ve}\")\n",
    "\n",
    "def main():\n",
    "    showroom = CarShowroom()\n",
    "\n",
    "    # Adding some initial cars\n",
    "    showroom.add_car(Car(\"Toyota\", \"Camry\", 2020, 24000, \"White\"))\n",
    "    showroom.add_car(Car(\"Honda\", \"Civic\", 2019, 20000, \"Black\"))\n",
    "    showroom.add_car(Car(\"Ford\", \"Mustang\", 2021, 35000, \"Red\"))\n",
    "\n",
    "    while True:\n",
    "        print(\"\\n--- Car Showroom Menu ---\")\n",
    "        print(\"1. View available cars\")\n",
    "        print(\"2. Display car details\")\n",
    "        print(\"3. Sell a car\")\n",
    "        print(\"4. Buy a car\")\n",
    "        print(\"5. Exit\")\n",
    "\n",
    "        choice = input(\"Enter your choice: \")\n",
    "\n",
    "        if choice == '1':\n",
    "            showroom.view_cars()\n",
    "        elif choice == '2':\n",
    "            brand = input(\"Enter brand of the car: \")\n",
    "            model = input(\"Enter model of the car: \")\n",
    "            showroom.display_car_details(brand, model)\n",
    "        elif choice == '3':\n",
    "            brand = input(\"Enter brand of the car to sell: \")\n",
    "            model = input(\"Enter model of the car to sell: \")\n",
    "            showroom.sell_car(brand, model)\n",
    "        elif choice == '4':\n",
    "            showroom.buy_car()\n",
    "        elif choice == '5':\n",
    "            print(\"Exiting Showroom. Have a nice day!\")\n",
    "            break\n",
    "        else:\n",
    "            print(\"Invalid choice. Please select again.\")\n",
    "\n",
    "if __name__ == \"__main__\":\n",
    "    main()\n"
   ]
  },
  {
   "cell_type": "code",
   "execution_count": null,
   "metadata": {},
   "outputs": [],
   "source": []
  }
 ],
 "metadata": {
  "kernelspec": {
   "display_name": "Python 3",
   "language": "python",
   "name": "python3"
  },
  "language_info": {
   "codemirror_mode": {
    "name": "ipython",
    "version": 3
   },
   "file_extension": ".py",
   "mimetype": "text/x-python",
   "name": "python",
   "nbconvert_exporter": "python",
   "pygments_lexer": "ipython3",
   "version": "3.7.6"
  }
 },
 "nbformat": 4,
 "nbformat_minor": 4
}
