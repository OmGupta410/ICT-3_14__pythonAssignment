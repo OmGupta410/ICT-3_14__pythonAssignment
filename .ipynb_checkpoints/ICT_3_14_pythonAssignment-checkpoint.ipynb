{
 "cells": [
  {
   "cell_type": "code",
   "execution_count": null,
   "metadata": {},
   "outputs": [],
   "source": [
    "# Q1\n",
    "\n",
    "def productnsum():\n",
    "    a =int(input(\"enter num 1\"))\n",
    "    b =int(input(\"enter num 2\"))\n",
    "    \n",
    "    if(a*b>1000):\n",
    "        return a*b\n",
    "    else:\n",
    "        return a+b\n",
    "    \n",
    "    \n",
    "result = productnsum()\n",
    "\n",
    "print(result)"
   ]
  },
  {
   "cell_type": "code",
   "execution_count": 16,
   "metadata": {},
   "outputs": [
    {
     "name": "stdout",
     "output_type": "stream",
     "text": [
      "Sum of 0 and 1: 1\n",
      "Sum of 1 and 2: 3\n",
      "Sum of 2 and 3: 5\n",
      "Sum of 3 and 4: 7\n",
      "Sum of 4 and 5: 9\n",
      "Sum of 5 and 6: 11\n",
      "Sum of 6 and 7: 13\n",
      "Sum of 7 and 8: 15\n",
      "Sum of 8 and 9: 17\n",
      "Sum of 9 and 10: 19\n"
     ]
    }
   ],
   "source": [
    "# Q2\n",
    "def fibonachhi():\n",
    "    a= range(1, 11)\n",
    "    \n",
    "    prev=0\n",
    "    \n",
    "    for i in a:\n",
    "         print(f\"Sum of {prev} and {i}: {prev + i}\")\n",
    "         prev=i   \n",
    "        \n",
    "fibonachhi()"
   ]
  },
  {
   "cell_type": "code",
   "execution_count": 21,
   "metadata": {},
   "outputs": [
    {
     "name": "stdout",
     "output_type": "stream",
     "text": [
      "<function evenindexstring at 0x000002C0BE9FE1F8>\n"
     ]
    }
   ],
   "source": [
    "# Q3\n",
    "\n",
    "def evenindexstring():\n",
    "    a =input(\"enter string\")\n",
    "    \n",
    "    return a[0::2]\n",
    "# print(evenindexstring)"
   ]
  },
  {
   "cell_type": "code",
   "execution_count": null,
   "metadata": {},
   "outputs": [],
   "source": []
  }
 ],
 "metadata": {
  "kernelspec": {
   "display_name": "Python 3",
   "language": "python",
   "name": "python3"
  },
  "language_info": {
   "codemirror_mode": {
    "name": "ipython",
    "version": 3
   },
   "file_extension": ".py",
   "mimetype": "text/x-python",
   "name": "python",
   "nbconvert_exporter": "python",
   "pygments_lexer": "ipython3",
   "version": "3.7.6"
  }
 },
 "nbformat": 4,
 "nbformat_minor": 4
}
